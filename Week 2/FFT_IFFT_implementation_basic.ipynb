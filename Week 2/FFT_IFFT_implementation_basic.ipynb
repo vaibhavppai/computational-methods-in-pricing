{
 "cells": [
  {
   "cell_type": "markdown",
   "metadata": {},
   "source": [
    "# Basic implementation of FFT and IFFT"
   ]
  },
  {
   "cell_type": "code",
   "execution_count": 18,
   "metadata": {
    "execution": {
     "iopub.execute_input": "2023-12-03T14:39:20.323959Z",
     "iopub.status.busy": "2023-12-03T14:39:20.322963Z",
     "iopub.status.idle": "2023-12-03T14:39:20.326826Z",
     "shell.execute_reply": "2023-12-03T14:39:20.326826Z",
     "shell.execute_reply.started": "2023-12-03T14:39:20.323959Z"
    },
    "tags": []
   },
   "outputs": [],
   "source": [
    "import numpy as np"
   ]
  },
  {
   "cell_type": "code",
   "execution_count": 19,
   "metadata": {
    "execution": {
     "iopub.execute_input": "2023-12-03T14:39:20.544834Z",
     "iopub.status.busy": "2023-12-03T14:39:20.544834Z",
     "iopub.status.idle": "2023-12-03T14:39:20.548644Z",
     "shell.execute_reply": "2023-12-03T14:39:20.548644Z",
     "shell.execute_reply.started": "2023-12-03T14:39:20.544834Z"
    },
    "tags": []
   },
   "outputs": [],
   "source": [
    "#An arbitrary vector Nx1 -- in our example 8x1\n",
    "\n",
    "N = 8\n",
    "x = np.array([ # this is the X(j) in written notes\n",
    "        1.5+2.6j,\n",
    "        2.7+7.3j,\n",
    "        1.7+4.0j,\n",
    "        4.1+9.1j,\n",
    "        3.9+1.4j,\n",
    "        2.9+4.8j,\n",
    "        3.0+1.6j,\n",
    "        7.3+2.1j\n",
    "        ])"
   ]
  },
  {
   "cell_type": "code",
   "execution_count": 20,
   "metadata": {
    "execution": {
     "iopub.execute_input": "2023-12-03T14:39:20.726184Z",
     "iopub.status.busy": "2023-12-03T14:39:20.726184Z",
     "iopub.status.idle": "2023-12-03T14:39:20.729697Z",
     "shell.execute_reply": "2023-12-03T14:39:20.729697Z",
     "shell.execute_reply.started": "2023-12-03T14:39:20.726184Z"
    },
    "tags": []
   },
   "outputs": [
    {
     "name": "stdout",
     "output_type": "stream",
     "text": [
      "x\n",
      "(1.5+2.6j)\n",
      "(2.7+7.3j)\n",
      "(1.7+4j)\n",
      "(4.1+9.1j)\n",
      "(3.9+1.4j)\n",
      "(2.9+4.8j)\n",
      "(3+1.6j)\n",
      "(7.3+2.1j)\n"
     ]
    }
   ],
   "source": [
    "#Elements of x \n",
    "\n",
    "print('x')\n",
    "for i in x:\n",
    "    print(i)"
   ]
  },
  {
   "cell_type": "code",
   "execution_count": 21,
   "metadata": {
    "execution": {
     "iopub.execute_input": "2023-12-03T14:39:20.928891Z",
     "iopub.status.busy": "2023-12-03T14:39:20.927893Z",
     "iopub.status.idle": "2023-12-03T14:39:20.932358Z",
     "shell.execute_reply": "2023-12-03T14:39:20.932358Z",
     "shell.execute_reply.started": "2023-12-03T14:39:20.928891Z"
    },
    "tags": []
   },
   "outputs": [
    {
     "name": "stdout",
     "output_type": "stream",
     "text": [
      "==============\n",
      "      y       \n",
      "--------------\n",
      "(27.1+32.9j)\n",
      "(8.84+1.72j)\n",
      "(1.6+4.2j)\n",
      "(-0.2+5.49j)\n",
      "(-6.9-13.7j)\n",
      "(-8.84+3.28j)\n",
      "(-0.2-7.4j)\n",
      "(-9.4-5.69j)\n"
     ]
    }
   ],
   "source": [
    "#Printing elements of y\n",
    "\n",
    "y  = np.fft.fft(x)\n",
    "print('==============')\n",
    "print('      y       ')\n",
    "print('--------------')\n",
    "for yj in y:\n",
    "    print(yj.round(2))"
   ]
  },
  {
   "cell_type": "code",
   "execution_count": 22,
   "metadata": {
    "execution": {
     "iopub.execute_input": "2023-12-03T14:39:21.132300Z",
     "iopub.status.busy": "2023-12-03T14:39:21.131303Z",
     "iopub.status.idle": "2023-12-03T14:39:21.137203Z",
     "shell.execute_reply": "2023-12-03T14:39:21.137203Z",
     "shell.execute_reply.started": "2023-12-03T14:39:21.131303Z"
    },
    "tags": []
   },
   "outputs": [
    {
     "name": "stdout",
     "output_type": "stream",
     "text": [
      "==============\n",
      "     yH       \n",
      "--------------\n",
      "(27.1+32.9j)\n",
      "(8.84+1.72j)\n",
      "(1.6+4.2j)\n",
      "(-0.2+5.49j)\n",
      "(-6.9-13.7j)\n",
      "(-8.84+3.28j)\n",
      "(-0.2-7.4j)\n",
      "(-9.4-5.69j)\n"
     ]
    }
   ],
   "source": [
    "# implemeting FFT explicitly\n",
    "\n",
    "yH = np.zeros(N, dtype=complex)\n",
    "jJ = np.zeros(N)\n",
    "for i in range(N):\n",
    "    jJ[i] = i    # sending 'j' as a vector\n",
    "for m in range(N):\n",
    "    yH[m]=np.sum(np.transpose(np.exp((-1j*2.0*np.pi/N)*m*jJ))*x) # 'm' instead of 'm-1' like in notes because we start from 0 here (same reason for 'j')\n",
    "\n",
    "    \n",
    "print('==============')\n",
    "print('     yH       ')\n",
    "print('--------------')\n",
    "for yj in yH:\n",
    "    print(yj.round(2))"
   ]
  },
  {
   "cell_type": "markdown",
   "metadata": {},
   "source": [
    "How to get the x back?\n",
    "\n",
    "Getting x back by calling x = ifft(y) (Inverse FFT)"
   ]
  },
  {
   "cell_type": "code",
   "execution_count": 23,
   "metadata": {
    "execution": {
     "iopub.execute_input": "2023-12-03T14:39:21.512262Z",
     "iopub.status.busy": "2023-12-03T14:39:21.512262Z",
     "iopub.status.idle": "2023-12-03T14:39:21.516445Z",
     "shell.execute_reply": "2023-12-03T14:39:21.516445Z",
     "shell.execute_reply.started": "2023-12-03T14:39:21.512262Z"
    },
    "tags": []
   },
   "outputs": [
    {
     "name": "stdout",
     "output_type": "stream",
     "text": [
      "===================\n",
      " Get x back from y \n",
      "-------------------\n",
      "(1.5+2.6j)\n",
      "(2.7+7.3j)\n",
      "(1.7+4j)\n",
      "(4.1+9.1j)\n",
      "(3.9+1.4j)\n",
      "(2.9+4.8j)\n",
      "(3+1.6j)\n",
      "(7.3+2.1j)\n"
     ]
    }
   ],
   "source": [
    "# Sanity check to make sure we get the X(j) vector back through inverse FFT\n",
    "\n",
    "x_ = np.fft.ifft(y)    \n",
    "print('===================')\n",
    "print(' Get x back from y ')\n",
    "print('-------------------')\n",
    "for xi in x_:\n",
    "    print(xi.round(2))"
   ]
  },
  {
   "cell_type": "code",
   "execution_count": 24,
   "metadata": {
    "execution": {
     "iopub.execute_input": "2023-12-03T14:39:21.762098Z",
     "iopub.status.busy": "2023-12-03T14:39:21.761109Z",
     "iopub.status.idle": "2023-12-03T14:39:21.766510Z",
     "shell.execute_reply": "2023-12-03T14:39:21.766510Z",
     "shell.execute_reply.started": "2023-12-03T14:39:21.762098Z"
    },
    "tags": []
   },
   "outputs": [
    {
     "name": "stdout",
     "output_type": "stream",
     "text": [
      "===================\n",
      " Get x back from y \n",
      "-------------------\n",
      "(1.5+2.6j)\n",
      "(2.7+7.3j)\n",
      "(1.7+4j)\n",
      "(4.1+9.1j)\n",
      "(3.9+1.4j)\n",
      "(2.9+4.8j)\n",
      "(3+1.6j)\n",
      "(7.3+2.1j)\n"
     ]
    }
   ],
   "source": [
    "# implemeting IFFT explicitly\n",
    "\n",
    "xH = np.zeros(N, dtype=complex) \n",
    "for m in range(N):\n",
    "    xH[m]= np.sum(np.exp((1j*2.0*np.pi/N)*m*jJ)*y)/N \n",
    " \n",
    "print('===================')\n",
    "print(' Get x back from y ')\n",
    "print('-------------------')            \n",
    "for xi in xH:\n",
    "    print(xi.round(2))"
   ]
  },
  {
   "cell_type": "code",
   "execution_count": null,
   "metadata": {
    "collapsed": true,
    "jupyter": {
     "outputs_hidden": true
    }
   },
   "outputs": [],
   "source": []
  }
 ],
 "metadata": {
  "kernelspec": {
   "display_name": "Python 3 (ipykernel)",
   "language": "python",
   "name": "python3"
  },
  "language_info": {
   "codemirror_mode": {
    "name": "ipython",
    "version": 3
   },
   "file_extension": ".py",
   "mimetype": "text/x-python",
   "name": "python",
   "nbconvert_exporter": "python",
   "pygments_lexer": "ipython3",
   "version": "3.11.5"
  }
 },
 "nbformat": 4,
 "nbformat_minor": 4
}
