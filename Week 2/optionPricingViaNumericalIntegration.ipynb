{
 "cells": [
  {
   "cell_type": "markdown",
   "metadata": {},
   "source": [
    "# Option Pricing via Numerical Integration of (payoff) * (price PDF given spot)"
   ]
  },
  {
   "cell_type": "code",
   "execution_count": null,
   "metadata": {
    "collapsed": true,
    "execution": {
     "iopub.execute_input": "2023-12-02T20:11:51.875736Z",
     "iopub.status.busy": "2023-12-02T20:11:51.874765Z",
     "iopub.status.idle": "2023-12-02T20:11:52.521996Z",
     "shell.execute_reply": "2023-12-02T20:11:52.521649Z",
     "shell.execute_reply.started": "2023-12-02T20:11:51.875736Z"
    },
    "jupyter": {
     "outputs_hidden": true
    },
    "tags": []
   },
   "outputs": [],
   "source": [
    "import numpy as np\n",
    "import matplotlib.pyplot as plt\n",
    "import time"
   ]
  },
  {
   "cell_type": "code",
   "execution_count": null,
   "metadata": {
    "collapsed": true,
    "execution": {
     "iopub.execute_input": "2023-12-02T20:11:52.523649Z",
     "iopub.status.busy": "2023-12-02T20:11:52.523649Z",
     "iopub.status.idle": "2023-12-02T20:11:52.528073Z",
     "shell.execute_reply": "2023-12-02T20:11:52.527067Z",
     "shell.execute_reply.started": "2023-12-02T20:11:52.523649Z"
    },
    "jupyter": {
     "outputs_hidden": true
    },
    "tags": []
   },
   "outputs": [],
   "source": [
    "# Fixed Parameters\n",
    "S0 = 100\n",
    "K = 140\n",
    "r = 0.05\n",
    "q = 0.01\n",
    "sig = 0.3\n",
    "T = 1.0"
   ]
  },
  {
   "cell_type": "code",
   "execution_count": null,
   "metadata": {
    "collapsed": true,
    "execution": {
     "iopub.execute_input": "2023-12-02T20:12:32.517108Z",
     "iopub.status.busy": "2023-12-02T20:12:32.517108Z",
     "iopub.status.idle": "2023-12-02T20:12:32.520228Z",
     "shell.execute_reply": "2023-12-02T20:12:32.520228Z",
     "shell.execute_reply.started": "2023-12-02T20:12:32.517108Z"
    },
    "jupyter": {
     "outputs_hidden": true
    },
    "tags": []
   },
   "outputs": [],
   "source": [
    "# model under consideration\n",
    "model = 'LogNormal'"
   ]
  },
  {
   "cell_type": "code",
   "execution_count": null,
   "metadata": {
    "collapsed": true,
    "execution": {
     "iopub.execute_input": "2023-12-02T20:11:52.534262Z",
     "iopub.status.busy": "2023-12-02T20:11:52.534262Z",
     "iopub.status.idle": "2023-12-02T20:11:52.538657Z",
     "shell.execute_reply": "2023-12-02T20:11:52.538657Z",
     "shell.execute_reply.started": "2023-12-02T20:11:52.534262Z"
    },
    "jupyter": {
     "outputs_hidden": true
    },
    "tags": []
   },
   "outputs": [],
   "source": [
    "def logNormal(S, r, q, sig, S0, T):\n",
    "    \n",
    "    f = np.exp(-0.5*((np.log(S/S0)-(r-q-sig**2/2)*T)/(sig*np.sqrt(T)))**2)/(sig*S*np.sqrt(2*np.pi*T))\n",
    "    return f"
   ]
  },
  {
   "cell_type": "code",
   "execution_count": null,
   "metadata": {
    "collapsed": true,
    "execution": {
     "iopub.execute_input": "2023-12-02T20:15:05.764326Z",
     "iopub.status.busy": "2023-12-02T20:15:05.764326Z",
     "iopub.status.idle": "2023-12-02T20:15:05.770128Z",
     "shell.execute_reply": "2023-12-02T20:15:05.770128Z",
     "shell.execute_reply.started": "2023-12-02T20:15:05.764326Z"
    },
    "jupyter": {
     "outputs_hidden": true
    },
    "tags": []
   },
   "outputs": [],
   "source": [
    "def evaluateIntegral(*args):\n",
    "    \n",
    "    r   = args[0]\n",
    "    q   = args[1]\n",
    "    S0  = args[2]\n",
    "    K   = args[3]\n",
    "    sig = args[4]\n",
    "    T   = args[5]\n",
    "    N   = args[6]\n",
    "    dS  = args[7]\n",
    "    \n",
    "    #discount factor\n",
    "    df = np.exp(-r*T)\n",
    "    \n",
    "    # evaluation of the integral using Trapezoidal method\n",
    "    \n",
    "    # Calls and Puts are evaluated differently\n",
    "    #--------------------------------------------------------------\n",
    "    \n",
    "    # Calls - Integrate from K to B\n",
    "    \n",
    "    S = np.zeros((N,1))\n",
    "    for j in range(N):\n",
    "        S[j] = K+j*dS\n",
    "    \n",
    "    tmp = logNormal(S, r, q, sig, S0, T)\n",
    "    sumC = 0\n",
    "    for j in range(N):\n",
    "        if j==0:\n",
    "            wj = dS/2\n",
    "        else:\n",
    "            wj = dS\n",
    "        sumC += (S[j]-K)*tmp[j]*wj\n",
    "        \n",
    "    c0_KT = df * sumC\n",
    "    \n",
    "    \n",
    "    # Puts - Integrate from 0 to K\n",
    "    \n",
    "    S = np.zeros((N,1))\n",
    "    eta = K/N\n",
    "    print(eta)\n",
    "    for j in range(N):\n",
    "        S[j] = 0.1+j*eta \n",
    "        \n",
    "    tmp = logNormal(S, r, q, sig, S0, T)\n",
    "    sumP = 0\n",
    "    for j in range(N):\n",
    "        if j == 0:\n",
    "            wj = eta/2\n",
    "        else:\n",
    "            wj = eta\n",
    "        sumP += (K-S[j])*tmp[j]*wj\n",
    "\n",
    "    p0_KT = df * sumP\n",
    "    \n",
    "    return c0_KT, p0_KT "
   ]
  },
  {
   "cell_type": "code",
   "execution_count": null,
   "metadata": {
    "execution": {
     "iopub.execute_input": "2023-12-02T20:15:06.156203Z",
     "iopub.status.busy": "2023-12-02T20:15:06.156203Z",
     "iopub.status.idle": "2023-12-02T20:15:06.160292Z",
     "shell.execute_reply": "2023-12-02T20:15:06.160292Z",
     "shell.execute_reply.started": "2023-12-02T20:15:06.156203Z"
    }
   },
   "outputs": [],
   "source": [
    "# plotting lognormal density f(S|S0)\n",
    "   \n",
    "S = np.zeros((N,1))\n",
    "for i in range(N):\n",
    "    S[i] = dS+i*dS\n",
    "\n",
    "f = logNormal(S, r, q, sig, S0, T)"
   ]
  },
  {
   "cell_type": "code",
   "execution_count": null,
   "metadata": {
    "execution": {
     "iopub.execute_input": "2023-12-02T20:15:06.403704Z",
     "iopub.status.busy": "2023-12-02T20:15:06.403704Z",
     "iopub.status.idle": "2023-12-02T20:15:06.530323Z",
     "shell.execute_reply": "2023-12-02T20:15:06.530323Z",
     "shell.execute_reply.started": "2023-12-02T20:15:06.403704Z"
    }
   },
   "outputs": [
    {
     "data": {
      "image/png": "[encoded data removed]",
      "text/plain": [
       "<Figure size 640x480 with 1 Axes>"
      ]
     },
     "metadata": {},
     "output_type": "display_data"
    }
   ],
   "source": [
    "plt.plot(S, f)\n",
    "plt.xlabel('$S_T$')\n",
    "plt.ylabel('lognormal density $f(S_T|S_0)$')\n",
    "plt.show()\n"
   ]
  },
  {
   "cell_type": "code",
   "execution_count": null,
   "metadata": {
    "execution": {
     "iopub.execute_input": "2023-12-02T20:15:06.629742Z",
     "iopub.status.busy": "2023-12-02T20:15:06.629742Z",
     "iopub.status.idle": "2023-12-02T20:15:06.641241Z",
     "shell.execute_reply": "2023-12-02T20:15:06.641241Z",
     "shell.execute_reply.started": "2023-12-02T20:15:06.629742Z"
    }
   },
   "outputs": [
    {
     "name": "stdout",
     "output_type": "stream",
     "text": [
      " \n",
      "===================\n",
      "Model is LogNormal\n",
      "-------------------\n",
      "0.2734375\n",
      "[2.91366011] [37.08120176]\n",
      "0.007981061935424805\n"
     ]
    }
   ],
   "source": [
    "#step-size\n",
    "dS = 1.0 # same as eta in notes\n",
    "\n",
    "# number of grid points\n",
    "n = 9\n",
    "N = 2**n\n",
    "B = K + N*dS\n",
    "\n",
    "start_time = time.time()\n",
    "print(' ')\n",
    "print('===================')\n",
    "print('Model is %s' % model)\n",
    "print('-------------------')\n",
    "arg = (r, q, S0, K, sig, T, N, dS)\n",
    "c0_KT, p0_KT = evaluateIntegral(*arg)\n",
    "print(c0_KT, p0_KT)\n",
    "elapsed_time = time.time() - start_time\n",
    "print(elapsed_time)"
   ]
  }
 ],
 "metadata": {
  "kernelspec": {
   "display_name": "Python 3 (ipykernel)",
   "language": "python",
   "name": "python3"
  },
  "language_info": {
   "codemirror_mode": {
    "name": "ipython",
    "version": 3
   },
   "file_extension": ".py",
   "mimetype": "text/x-python",
   "name": "python",
   "nbconvert_exporter": "python",
   "pygments_lexer": "ipython3",
   "version": "3.11.5"
  }
 },
 "nbformat": 4,
 "nbformat_minor": 4
}
