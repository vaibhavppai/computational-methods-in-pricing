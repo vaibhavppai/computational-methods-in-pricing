{
 "cells": [
  {
   "cell_type": "markdown",
   "metadata": {},
   "source": [
    "# FFT IFFT implementation with X(j) of large size"
   ]
  },
  {
   "cell_type": "code",
   "execution_count": 56,
   "metadata": {
    "execution": {
     "iopub.execute_input": "2023-12-03T14:54:35.781126Z",
     "iopub.status.busy": "2023-12-03T14:54:35.781126Z",
     "iopub.status.idle": "2023-12-03T14:54:35.784109Z",
     "shell.execute_reply": "2023-12-03T14:54:35.784109Z",
     "shell.execute_reply.started": "2023-12-03T14:54:35.781126Z"
    },
    "tags": []
   },
   "outputs": [],
   "source": [
    "import numpy as np\n",
    "import time"
   ]
  },
  {
   "cell_type": "code",
   "execution_count": 61,
   "metadata": {
    "execution": {
     "iopub.execute_input": "2023-12-03T14:54:38.885745Z",
     "iopub.status.busy": "2023-12-03T14:54:38.884749Z",
     "iopub.status.idle": "2023-12-03T14:54:38.888659Z",
     "shell.execute_reply": "2023-12-03T14:54:38.888659Z",
     "shell.execute_reply.started": "2023-12-03T14:54:38.885745Z"
    },
    "tags": []
   },
   "outputs": [],
   "source": [
    "N = 2**12\n",
    "x = np.random.rand(N)+1j*np.random.rand(N) # real + imaginary components"
   ]
  },
  {
   "cell_type": "code",
   "execution_count": 62,
   "metadata": {
    "execution": {
     "iopub.execute_input": "2023-12-03T14:54:39.088131Z",
     "iopub.status.busy": "2023-12-03T14:54:39.088131Z",
     "iopub.status.idle": "2023-12-03T14:54:39.091707Z",
     "shell.execute_reply": "2023-12-03T14:54:39.091707Z",
     "shell.execute_reply.started": "2023-12-03T14:54:39.088131Z"
    },
    "tags": []
   },
   "outputs": [
    {
     "name": "stdout",
     "output_type": "stream",
     "text": [
      "0.000996589660645\n"
     ]
    }
   ],
   "source": [
    "start_time = time.time()\n",
    "y  = np.fft.fft(x)\n",
    "elapsed_time = time.time() - start_time\n",
    "print(f'{elapsed_time:.15f}')"
   ]
  },
  {
   "cell_type": "code",
   "execution_count": 63,
   "metadata": {
    "execution": {
     "iopub.execute_input": "2023-12-03T14:54:53.127492Z",
     "iopub.status.busy": "2023-12-03T14:54:53.127492Z",
     "iopub.status.idle": "2023-12-03T14:54:54.133351Z",
     "shell.execute_reply": "2023-12-03T14:54:54.133351Z",
     "shell.execute_reply.started": "2023-12-03T14:54:53.127492Z"
    }
   },
   "outputs": [
    {
     "name": "stdout",
     "output_type": "stream",
     "text": [
      "1.0022549629211426\n"
     ]
    }
   ],
   "source": [
    "# explicit implementation\n",
    "# O(N^2) vs. O(NlnN)\n",
    "\n",
    "jJ = np.zeros(N)\n",
    "for i in range(N):\n",
    "    jJ[i] = i\n",
    "      \n",
    "    \n",
    "start_time = time.time()\n",
    "yH = np.zeros(N, dtype=complex)\n",
    "for m in range(N):\n",
    "    yH[m]=np.sum(np.transpose(np.exp((-1j*2.0*np.pi/N)*m*jJ))*x)\n",
    "elapsed_time = time.time() - start_time\n",
    "print(elapsed_time)"
   ]
  },
  {
   "cell_type": "markdown",
   "metadata": {},
   "source": [
    "As seen above, numpy implementation of FFT is orders of magnitude faster"
   ]
  },
  {
   "cell_type": "markdown",
   "metadata": {},
   "source": [
    "---------"
   ]
  },
  {
   "cell_type": "markdown",
   "metadata": {},
   "source": [
    "### Compare y vs. yH"
   ]
  },
  {
   "cell_type": "code",
   "execution_count": 64,
   "metadata": {
    "execution": {
     "iopub.execute_input": "2023-12-03T14:54:55.580057Z",
     "iopub.status.busy": "2023-12-03T14:54:55.579059Z",
     "iopub.status.idle": "2023-12-03T14:54:55.584475Z",
     "shell.execute_reply": "2023-12-03T14:54:55.583971Z",
     "shell.execute_reply.started": "2023-12-03T14:54:55.580057Z"
    }
   },
   "outputs": [
    {
     "name": "stdout",
     "output_type": "stream",
     "text": [
      "(-6.30735586190173+35.070017508309405j)\n"
     ]
    }
   ],
   "source": [
    "print(y[123])"
   ]
  },
  {
   "cell_type": "code",
   "execution_count": 65,
   "metadata": {
    "execution": {
     "iopub.execute_input": "2023-12-03T14:54:58.773818Z",
     "iopub.status.busy": "2023-12-03T14:54:58.773818Z",
     "iopub.status.idle": "2023-12-03T14:54:58.777625Z",
     "shell.execute_reply": "2023-12-03T14:54:58.777625Z",
     "shell.execute_reply.started": "2023-12-03T14:54:58.773818Z"
    }
   },
   "outputs": [
    {
     "name": "stdout",
     "output_type": "stream",
     "text": [
      "(-6.30735586190305+35.070017508309036j)\n"
     ]
    }
   ],
   "source": [
    "print(yH[123])"
   ]
  },
  {
   "cell_type": "code",
   "execution_count": null,
   "metadata": {},
   "outputs": [],
   "source": []
  }
 ],
 "metadata": {
  "kernelspec": {
   "display_name": "Python 3 (ipykernel)",
   "language": "python",
   "name": "python3"
  },
  "language_info": {
   "codemirror_mode": {
    "name": "ipython",
    "version": 3
   },
   "file_extension": ".py",
   "mimetype": "text/x-python",
   "name": "python",
   "nbconvert_exporter": "python",
   "pygments_lexer": "ipython3",
   "version": "3.11.5"
  }
 },
 "nbformat": 4,
 "nbformat_minor": 4
}
